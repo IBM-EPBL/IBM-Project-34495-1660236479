{
 "cells": [
  {
   "cell_type": "code",
   "execution_count": 14,
   "id": "484eaec4",
   "metadata": {},
   "outputs": [],
   "source": [
    "from keras.preprocessing.image import ImageDataGenerator\n"
   ]
  },
  {
   "cell_type": "code",
   "execution_count": 17,
   "id": "c3d62465",
   "metadata": {},
   "outputs": [],
   "source": [
    "train_datagen = ImageDataGenerator(rescale=1./255,shear_range=0.2,zoom_range=0.2,horizontal_flip=True)\n",
    "test_datagen = ImageDataGenerator(rescale=1./255)"
   ]
  },
  {
   "cell_type": "code",
   "execution_count": 18,
   "id": "74bc856d",
   "metadata": {},
   "outputs": [
    {
     "name": "stdout",
     "output_type": "stream",
     "text": [
      "Found 9220 images belonging to 5 classes.\n",
      "Found 9220 images belonging to 5 classes.\n"
     ]
    }
   ],
   "source": [
    "x_train = train_datagen.flow_from_directory(\n",
    "    r'C:\\AI-powered Nutrition Analyzer for Fitness Enthusiasts',target_size=(64, 64),batch_size=5,color_mode='rgb',class_mode='sparse')\n",
    "x_test = test_datagen.flow_from_directory(r'C:\\AI-powered Nutrition Analyzer for Fitness Enthusiasts',target_size=(64, 64),batch_size=5,color_mode='rgb',class_mode='sparse')"
   ]
  },
  {
   "cell_type": "code",
   "execution_count": 32,
   "id": "49bb7607",
   "metadata": {},
   "outputs": [
    {
     "name": "stdout",
     "output_type": "stream",
     "text": [
      "{'Flask': 0, 'Rapid API Video': 1, 'TEST_SET': 2, 'TRAIN_SET': 3, 'TRAIN_SET-20221110T014135Z-001': 4}\n"
     ]
    },
    {
     "data": {
      "text/plain": [
       "{'APPLES': 0, 'BANANA': 1, 'ORANGE': 2, 'PINEAPPLE': 3, 'WATERMELON': 4}"
      ]
     },
     "execution_count": 32,
     "metadata": {},
     "output_type": "execute_result"
    }
   ],
   "source": [
    "print(x_train.class_indices)\n",
    "{'APPLES': 0,'BANANA': 1,'ORANGE': 2,'PINEAPPLE': 3,'WATERMELON': 4}\n"
   ]
  },
  {
   "cell_type": "code",
   "execution_count": 31,
   "id": "8a68e686",
   "metadata": {},
   "outputs": [
    {
     "name": "stdout",
     "output_type": "stream",
     "text": [
      "{'Flask': 0, 'Rapid API Video': 1, 'TEST_SET': 2, 'TRAIN_SET': 3, 'TRAIN_SET-20221110T014135Z-001': 4}\n"
     ]
    },
    {
     "data": {
      "text/plain": [
       "{'APPLES': 0, 'BANANA': 1, 'ORANGE': 2, 'PINEAPPLE': 3, 'WATERMELON': 4}"
      ]
     },
     "execution_count": 31,
     "metadata": {},
     "output_type": "execute_result"
    }
   ],
   "source": [
    "print(x_test.class_indices)\n",
    "{'APPLES': 0,'BANANA': 1,'ORANGE': 2,'PINEAPPLE': 3,'WATERMELON': 4}\n"
   ]
  },
  {
   "cell_type": "code",
   "execution_count": 38,
   "id": "13895793",
   "metadata": {},
   "outputs": [
    {
     "data": {
      "text/plain": [
       "Counter({0: 15, 2: 929, 3: 4138, 4: 4138})"
      ]
     },
     "execution_count": 38,
     "metadata": {},
     "output_type": "execute_result"
    }
   ],
   "source": [
    "from collections import Counter as c\n",
    "c(x_train .labels)\n",
    "\n",
    " "
   ]
  }
 ],
 "metadata": {
  "kernelspec": {
   "display_name": "Python 3 (ipykernel)",
   "language": "python",
   "name": "python3"
  },
  "language_info": {
   "codemirror_mode": {
    "name": "ipython",
    "version": 3
   },
   "file_extension": ".py",
   "mimetype": "text/x-python",
   "name": "python",
   "nbconvert_exporter": "python",
   "pygments_lexer": "ipython3",
   "version": "3.9.13"
  }
 },
 "nbformat": 4,
 "nbformat_minor": 5
}
